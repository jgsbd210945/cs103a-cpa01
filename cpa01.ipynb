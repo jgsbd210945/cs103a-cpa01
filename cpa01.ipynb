{
 "cells": [
  {
   "cell_type": "markdown",
   "id": "a70e309a-240e-44b4-846b-17a7efbe6c69",
   "metadata": {},
   "source": [
    "### CPA01\n",
    "\n",
    "This dataset gives crude oil prices per every few days marked by WTI (West Texas Intermediate) and Brent Crude Oil, two of the main standards of oil prices worldwide.\n",
    "\n",
    "Dataset: https://datasource.kapsarc.org/explore/dataset/spot-prices-for-crude-oil-and-petroleum-products/information/\n",
    "Go to \"Export\" and click \"CSV\"\n",
    "\n",
    "Questions:\n",
    "- How do international relations influence global oil prices?\n",
    "- How do economics impact global oil prices?"
   ]
  },
  {
   "cell_type": "code",
   "execution_count": 1,
   "id": "20b9ef1e-4ab6-4fae-b194-6da869251b08",
   "metadata": {},
   "outputs": [],
   "source": [
    "import numpy as np\n",
    "import pandas as pd\n",
    "from matplotlib import pyplot as plt"
   ]
  },
  {
   "cell_type": "code",
   "execution_count": 13,
   "id": "6f4fad0e",
   "metadata": {},
   "outputs": [
    {
     "data": {
      "text/html": [
       "<div>\n",
       "<style scoped>\n",
       "    .dataframe tbody tr th:only-of-type {\n",
       "        vertical-align: middle;\n",
       "    }\n",
       "\n",
       "    .dataframe tbody tr th {\n",
       "        vertical-align: top;\n",
       "    }\n",
       "\n",
       "    .dataframe thead th {\n",
       "        text-align: right;\n",
       "    }\n",
       "</style>\n",
       "<table border=\"1\" class=\"dataframe\">\n",
       "  <thead>\n",
       "    <tr style=\"text-align: right;\">\n",
       "      <th></th>\n",
       "      <th>Brent Spot Price (U.S. Dollars per Barrel)</th>\n",
       "      <th>WTI Spot Price (U.S. Dollars per Barrel)</th>\n",
       "    </tr>\n",
       "  </thead>\n",
       "  <tbody>\n",
       "    <tr>\n",
       "      <th>count</th>\n",
       "      <td>8827.000000</td>\n",
       "      <td>9113.000000</td>\n",
       "    </tr>\n",
       "    <tr>\n",
       "      <th>mean</th>\n",
       "      <td>47.170357</td>\n",
       "      <td>44.807680</td>\n",
       "    </tr>\n",
       "    <tr>\n",
       "      <th>std</th>\n",
       "      <td>32.043870</td>\n",
       "      <td>28.789459</td>\n",
       "    </tr>\n",
       "    <tr>\n",
       "      <th>min</th>\n",
       "      <td>9.100000</td>\n",
       "      <td>-36.980000</td>\n",
       "    </tr>\n",
       "    <tr>\n",
       "      <th>25%</th>\n",
       "      <td>18.950000</td>\n",
       "      <td>19.900000</td>\n",
       "    </tr>\n",
       "    <tr>\n",
       "      <th>50%</th>\n",
       "      <td>35.750000</td>\n",
       "      <td>33.820000</td>\n",
       "    </tr>\n",
       "    <tr>\n",
       "      <th>75%</th>\n",
       "      <td>68.415000</td>\n",
       "      <td>64.460000</td>\n",
       "    </tr>\n",
       "    <tr>\n",
       "      <th>max</th>\n",
       "      <td>143.950000</td>\n",
       "      <td>145.310000</td>\n",
       "    </tr>\n",
       "  </tbody>\n",
       "</table>\n",
       "</div>"
      ],
      "text/plain": [
       "       Brent Spot Price (U.S. Dollars per Barrel)  \\\n",
       "count                                 8827.000000   \n",
       "mean                                    47.170357   \n",
       "std                                     32.043870   \n",
       "min                                      9.100000   \n",
       "25%                                     18.950000   \n",
       "50%                                     35.750000   \n",
       "75%                                     68.415000   \n",
       "max                                    143.950000   \n",
       "\n",
       "       WTI Spot Price (U.S. Dollars per Barrel)  \n",
       "count                               9113.000000  \n",
       "mean                                  44.807680  \n",
       "std                                   28.789459  \n",
       "min                                  -36.980000  \n",
       "25%                                   19.900000  \n",
       "50%                                   33.820000  \n",
       "75%                                   64.460000  \n",
       "max                                  145.310000  "
      ]
     },
     "execution_count": 13,
     "metadata": {},
     "output_type": "execute_result"
    }
   ],
   "source": [
    "df = pd.read_csv('spot-prices-for-crude-oil-and-petroleum-products.csv', sep=';')\n",
    "df.describe()"
   ]
  },
  {
   "cell_type": "code",
   "execution_count": 14,
   "id": "35bf153b",
   "metadata": {},
   "outputs": [
    {
     "name": "stdout",
     "output_type": "stream",
     "text": [
      "Index(['Date', 'Brent Spot Price (U.S. Dollars per Barrel)',\n",
      "       'WTI Spot Price (U.S. Dollars per Barrel)'],\n",
      "      dtype='object')\n",
      "<PandasArray>\n",
      "[   0,    1,    2,    3,    4,    5,    6,    7,    8,    9,\n",
      " ...\n",
      " 9234, 9235, 9236, 9237, 9238, 9239, 9240, 9241, 9242, 9243]\n",
      "Length: 9244, dtype: int64\n"
     ]
    }
   ],
   "source": [
    "print(df.columns)\n",
    "print(df.index.array)"
   ]
  },
  {
   "cell_type": "code",
   "execution_count": 15,
   "id": "9215e4f8",
   "metadata": {},
   "outputs": [
    {
     "data": {
      "text/html": [
       "<div>\n",
       "<style scoped>\n",
       "    .dataframe tbody tr th:only-of-type {\n",
       "        vertical-align: middle;\n",
       "    }\n",
       "\n",
       "    .dataframe tbody tr th {\n",
       "        vertical-align: top;\n",
       "    }\n",
       "\n",
       "    .dataframe thead th {\n",
       "        text-align: right;\n",
       "    }\n",
       "</style>\n",
       "<table border=\"1\" class=\"dataframe\">\n",
       "  <thead>\n",
       "    <tr style=\"text-align: right;\">\n",
       "      <th></th>\n",
       "      <th>Date</th>\n",
       "      <th>Brent Spot Price (U.S. Dollars per Barrel)</th>\n",
       "      <th>WTI Spot Price (U.S. Dollars per Barrel)</th>\n",
       "    </tr>\n",
       "  </thead>\n",
       "  <tbody>\n",
       "    <tr>\n",
       "      <th>0</th>\n",
       "      <td>2022-02-04</td>\n",
       "      <td>96.86</td>\n",
       "      <td>92.27</td>\n",
       "    </tr>\n",
       "    <tr>\n",
       "      <th>1</th>\n",
       "      <td>2022-02-01</td>\n",
       "      <td>90.24</td>\n",
       "      <td>88.22</td>\n",
       "    </tr>\n",
       "    <tr>\n",
       "      <th>2</th>\n",
       "      <td>2022-01-27</td>\n",
       "      <td>90.70</td>\n",
       "      <td>87.61</td>\n",
       "    </tr>\n",
       "    <tr>\n",
       "      <th>3</th>\n",
       "      <td>2022-01-19</td>\n",
       "      <td>89.64</td>\n",
       "      <td>86.84</td>\n",
       "    </tr>\n",
       "    <tr>\n",
       "      <th>4</th>\n",
       "      <td>2022-01-17</td>\n",
       "      <td>87.82</td>\n",
       "      <td>83.82</td>\n",
       "    </tr>\n",
       "    <tr>\n",
       "      <th>...</th>\n",
       "      <td>...</td>\n",
       "      <td>...</td>\n",
       "      <td>...</td>\n",
       "    </tr>\n",
       "    <tr>\n",
       "      <th>9239</th>\n",
       "      <td>1990-06-18</td>\n",
       "      <td>14.83</td>\n",
       "      <td>15.92</td>\n",
       "    </tr>\n",
       "    <tr>\n",
       "      <th>9240</th>\n",
       "      <td>1990-06-15</td>\n",
       "      <td>15.15</td>\n",
       "      <td>16.64</td>\n",
       "    </tr>\n",
       "    <tr>\n",
       "      <th>9241</th>\n",
       "      <td>1990-06-08</td>\n",
       "      <td>14.68</td>\n",
       "      <td>16.78</td>\n",
       "    </tr>\n",
       "    <tr>\n",
       "      <th>9242</th>\n",
       "      <td>1990-06-06</td>\n",
       "      <td>14.80</td>\n",
       "      <td>16.91</td>\n",
       "    </tr>\n",
       "    <tr>\n",
       "      <th>9243</th>\n",
       "      <td>1990-05-30</td>\n",
       "      <td>15.98</td>\n",
       "      <td>17.88</td>\n",
       "    </tr>\n",
       "  </tbody>\n",
       "</table>\n",
       "<p>9244 rows × 3 columns</p>\n",
       "</div>"
      ],
      "text/plain": [
       "            Date  Brent Spot Price (U.S. Dollars per Barrel)  \\\n",
       "0     2022-02-04                                       96.86   \n",
       "1     2022-02-01                                       90.24   \n",
       "2     2022-01-27                                       90.70   \n",
       "3     2022-01-19                                       89.64   \n",
       "4     2022-01-17                                       87.82   \n",
       "...          ...                                         ...   \n",
       "9239  1990-06-18                                       14.83   \n",
       "9240  1990-06-15                                       15.15   \n",
       "9241  1990-06-08                                       14.68   \n",
       "9242  1990-06-06                                       14.80   \n",
       "9243  1990-05-30                                       15.98   \n",
       "\n",
       "      WTI Spot Price (U.S. Dollars per Barrel)  \n",
       "0                                        92.27  \n",
       "1                                        88.22  \n",
       "2                                        87.61  \n",
       "3                                        86.84  \n",
       "4                                        83.82  \n",
       "...                                        ...  \n",
       "9239                                     15.92  \n",
       "9240                                     16.64  \n",
       "9241                                     16.78  \n",
       "9242                                     16.91  \n",
       "9243                                     17.88  \n",
       "\n",
       "[9244 rows x 3 columns]"
      ]
     },
     "execution_count": 15,
     "metadata": {},
     "output_type": "execute_result"
    }
   ],
   "source": [
    "df"
   ]
  },
  {
   "cell_type": "code",
   "execution_count": 16,
   "id": "24b50f0d",
   "metadata": {},
   "outputs": [
    {
     "data": {
      "text/html": [
       "<div>\n",
       "<style scoped>\n",
       "    .dataframe tbody tr th:only-of-type {\n",
       "        vertical-align: middle;\n",
       "    }\n",
       "\n",
       "    .dataframe tbody tr th {\n",
       "        vertical-align: top;\n",
       "    }\n",
       "\n",
       "    .dataframe thead th {\n",
       "        text-align: right;\n",
       "    }\n",
       "</style>\n",
       "<table border=\"1\" class=\"dataframe\">\n",
       "  <thead>\n",
       "    <tr style=\"text-align: right;\">\n",
       "      <th></th>\n",
       "      <th>WTI Spot Price (U.S. Dollars per Barrel)</th>\n",
       "    </tr>\n",
       "    <tr>\n",
       "      <th>Date</th>\n",
       "      <th></th>\n",
       "    </tr>\n",
       "  </thead>\n",
       "  <tbody>\n",
       "    <tr>\n",
       "      <th>1986-01-02</th>\n",
       "      <td>25.56</td>\n",
       "    </tr>\n",
       "    <tr>\n",
       "      <th>1986-01-03</th>\n",
       "      <td>26.00</td>\n",
       "    </tr>\n",
       "    <tr>\n",
       "      <th>1986-01-06</th>\n",
       "      <td>26.53</td>\n",
       "    </tr>\n",
       "    <tr>\n",
       "      <th>1986-01-07</th>\n",
       "      <td>25.85</td>\n",
       "    </tr>\n",
       "    <tr>\n",
       "      <th>1986-01-08</th>\n",
       "      <td>25.87</td>\n",
       "    </tr>\n",
       "    <tr>\n",
       "      <th>...</th>\n",
       "      <td>...</td>\n",
       "    </tr>\n",
       "    <tr>\n",
       "      <th>2022-02-02</th>\n",
       "      <td>88.16</td>\n",
       "    </tr>\n",
       "    <tr>\n",
       "      <th>2022-02-03</th>\n",
       "      <td>90.17</td>\n",
       "    </tr>\n",
       "    <tr>\n",
       "      <th>2022-02-04</th>\n",
       "      <td>92.27</td>\n",
       "    </tr>\n",
       "    <tr>\n",
       "      <th>2022-02-07</th>\n",
       "      <td>91.25</td>\n",
       "    </tr>\n",
       "    <tr>\n",
       "      <th>2022-02-08</th>\n",
       "      <td>89.32</td>\n",
       "    </tr>\n",
       "  </tbody>\n",
       "</table>\n",
       "<p>9113 rows × 1 columns</p>\n",
       "</div>"
      ],
      "text/plain": [
       "            WTI Spot Price (U.S. Dollars per Barrel)\n",
       "Date                                                \n",
       "1986-01-02                                     25.56\n",
       "1986-01-03                                     26.00\n",
       "1986-01-06                                     26.53\n",
       "1986-01-07                                     25.85\n",
       "1986-01-08                                     25.87\n",
       "...                                              ...\n",
       "2022-02-02                                     88.16\n",
       "2022-02-03                                     90.17\n",
       "2022-02-04                                     92.27\n",
       "2022-02-07                                     91.25\n",
       "2022-02-08                                     89.32\n",
       "\n",
       "[9113 rows x 1 columns]"
      ]
     },
     "execution_count": 16,
     "metadata": {},
     "output_type": "execute_result"
    }
   ],
   "source": [
    "column = 'WTI Spot Price (U.S. Dollars per Barrel)'\n",
    "df2 = pd.pivot_table(df, values=column, index=\"Date\")\n",
    "df2"
   ]
  },
  {
   "cell_type": "code",
   "execution_count": 17,
   "id": "c8cb4e08",
   "metadata": {},
   "outputs": [
    {
     "data": {
      "text/plain": [
       "<AxesSubplot:xlabel='Date'>"
      ]
     },
     "execution_count": 17,
     "metadata": {},
     "output_type": "execute_result"
    },
    {
     "data": {
      "image/png": "[encoded data removed]",
      "text/plain": [
       "<Figure size 432x288 with 1 Axes>"
      ]
     },
     "metadata": {
      "needs_background": "light"
     },
     "output_type": "display_data"
    }
   ],
   "source": [
    "df2.plot()"
   ]
  },
  {
   "cell_type": "code",
   "execution_count": 26,
   "id": "43dbc7fa",
   "metadata": {},
   "outputs": [
    {
     "data": {
      "text/plain": [
       "Date\n",
       "2020-04-20   -36.98\n",
       "2020-04-21     8.91\n",
       "1986-03-31    10.25\n",
       "1998-12-10    10.82\n",
       "1986-07-25    10.83\n",
       "              ...  \n",
       "2020-11-27      NaN\n",
       "2021-01-18      NaN\n",
       "2021-02-15      NaN\n",
       "2021-09-06      NaN\n",
       "2021-12-24      NaN\n",
       "Name: WTI Spot Price (U.S. Dollars per Barrel), Length: 9244, dtype: float64"
      ]
     },
     "execution_count": 26,
     "metadata": {},
     "output_type": "execute_result"
    }
   ],
   "source": [
    "df3 = df.groupby(\"Date\")\n",
    "df3 = df3[\"WTI Spot Price (U.S. Dollars per Barrel)\"].agg(np.mean)\n",
    "df3 = df3.sort_values(ascending=True)\n",
    "df3"
   ]
  },
  {
   "cell_type": "code",
   "execution_count": null,
   "metadata": {},
   "outputs": [],
   "source": []
  }
 ],
 "metadata": {
  "kernelspec": {
   "display_name": "Python 3 (ipykernel)",
   "language": "python",
   "name": "python3"
  },
  "language_info": {
   "codemirror_mode": {
    "name": "ipython",
    "version": 3
   },
   "file_extension": ".py",
   "mimetype": "text/x-python",
   "name": "python",
   "nbconvert_exporter": "python",
   "pygments_lexer": "ipython3",
   "version": "3.9.7"
  }
 },
 "nbformat": 4,
 "nbformat_minor": 5
}
